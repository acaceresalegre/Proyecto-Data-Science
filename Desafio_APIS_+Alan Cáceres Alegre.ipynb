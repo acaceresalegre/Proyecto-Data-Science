{
 "cells": [
  {
   "cell_type": "code",
   "execution_count": 2,
   "metadata": {},
   "outputs": [
    {
     "name": "stdout",
     "output_type": "stream",
     "text": [
      "Error en la solicitud: 401\n",
      "{\n",
      "  \"error\": {\n",
      "    \"status\": 401,\n",
      "    \"message\": \"Invalid access token\"\n",
      "  }\n",
      "}\n"
     ]
    }
   ],
   "source": [
    "import requests\n",
    "import pandas as pd\n",
    "\n",
    "# Definir la URL de la API de Spotify y el token de acceso\n",
    "url = \"https://api.spotify.com/v1/artists/0TnOYISbd1XYRBk9myaseg/top-tracks\"\n",
    "token = \"Bearer 1POdFZRZbvb...qqillRxMr2z\"  # Reemplazar con tu token de acceso real\n",
    "\n",
    "# Configurar los encabezados de la solicitud con el token de acceso\n",
    "headers = {\n",
    "    'Authorization': token,\n",
    "}\n",
    "\n",
    "# Realizar la solicitud HTTP GET a la API de Spotify\n",
    "response = requests.get(url, headers=headers)\n",
    "\n",
    "# Verificar si la solicitud fue exitosa (código de estado 200)\n",
    "if response.status_code == 200:\n",
    "    # Convertir la respuesta JSON a un diccionario\n",
    "    data = response.json()\n",
    "\n",
    "    # Crear un DataFrame con los datos\n",
    "    df = pd.DataFrame(data.items(), columns=['Campo', 'Valor'])\n",
    "\n",
    "    # Exploración simple del DataFrame\n",
    "    print(\"Filas y columnas del DataFrame:\")\n",
    "    print(df.shape)\n",
    "\n",
    "    print(\"\\nTipos de datos en el DataFrame:\")\n",
    "    print(df.dtypes)\n",
    "\n",
    "    print(\"\\nContenido del DataFrame:\")\n",
    "    print(df)\n",
    "\n",
    "else:\n",
    "    print(f\"Error en la solicitud: {response.status_code}\")\n",
    "    print(response.text)\n"
   ]
  },
  {
   "cell_type": "code",
   "execution_count": null,
   "metadata": {},
   "outputs": [
    {
     "name": "stdout",
     "output_type": "stream",
     "text": [
      "{'external_urls': {'spotify': 'https://open.spotify.com/artist/0TnOYISbd1XYRBk9myaseg'}, 'followers': {'href': None, 'total': 10229742}, 'genres': ['dance pop', 'miami hip hop', 'pop'], 'href': 'https://api.spotify.com/v1/artists/0TnOYISbd1XYRBk9myaseg', 'id': '0TnOYISbd1XYRBk9myaseg', 'images': [{'height': 640, 'url': 'https://i.scdn.co/image/ab6761610000e5ebee07b5820dd91d15d397e29c', 'width': 640}, {'height': 320, 'url': 'https://i.scdn.co/image/ab67616100005174ee07b5820dd91d15d397e29c', 'width': 320}, {'height': 160, 'url': 'https://i.scdn.co/image/ab6761610000f178ee07b5820dd91d15d397e29c', 'width': 160}], 'name': 'Pitbull', 'popularity': 81, 'type': 'artist', 'uri': 'spotify:artist:0TnOYISbd1XYRBk9myaseg'}\n"
     ]
    }
   ],
   "source": [
    "import requests\n",
    "\n",
    "# Información de la aplicación\n",
    "client_id = \"f07c7437b5124dbb8023a516ee8006d4\"\n",
    "client_secret = \"94e9623f3c434417b784f0e849d3dcf5\"\n",
    "\n",
    "# URL de autorización de Spotify\n",
    "auth_url = \"https://accounts.spotify.com/api/token\"\n",
    "\n",
    "# Parámetros para obtener el token de acceso\n",
    "auth_params = {\n",
    "    'grant_type': 'client_credentials',\n",
    "    'client_id': client_id,\n",
    "    'client_secret': client_secret,\n",
    "}\n",
    "\n",
    "# Obtener el token de acceso\n",
    "auth_response = requests.post(auth_url, data=auth_params)\n",
    "auth_data = auth_response.json()\n",
    "\n",
    "# Extraer el token de acceso\n",
    "access_token = auth_data['access_token']\n",
    "\n",
    "# Usar el nuevo token de acceso en la solicitud a la API de Spotify\n",
    "url = \"https://api.spotify.com/v1/artists/0TnOYISbd1XYRBk9myaseg\"\n",
    "headers = {\n",
    "    'Authorization': f'Bearer {access_token}',\n",
    "}\n",
    "\n",
    "response = requests.get(url, headers=headers)\n",
    "\n",
    "# Verificar si la solicitud fue exitosa\n",
    "if response.status_code == 200:\n",
    "    data = response.json()\n",
    "    print(data)\n",
    "else:\n",
    "    print(f\"Error en la solicitud: {response.status_code}\")\n",
    "    print(response.text)\n"
   ]
  },
  {
   "cell_type": "code",
   "execution_count": null,
   "metadata": {},
   "outputs": [],
   "source": []
  }
 ],
 "metadata": {
  "kernelspec": {
   "display_name": "base",
   "language": "python",
   "name": "python3"
  },
  "language_info": {
   "codemirror_mode": {
    "name": "ipython",
    "version": 3
   },
   "file_extension": ".py",
   "mimetype": "text/x-python",
   "name": "python",
   "nbconvert_exporter": "python",
   "pygments_lexer": "ipython3",
   "version": "3.11.5"
  }
 },
 "nbformat": 4,
 "nbformat_minor": 2
}
